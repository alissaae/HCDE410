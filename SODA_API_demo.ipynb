{
 "cells": [
  {
   "cell_type": "markdown",
   "metadata": {},
   "source": [
    "# Exploring the data.seattle.gov API\n",
    "The API for data.seattle.gov is called the SODA API (for \"Socrata Open Data API\"). This API allows you to do a lot of filtering and selecting your data before you download it. Not all APIs offer this kind of expanded 'query' functionality, but it can be very useful when they do, for at least 2 reasons:\n",
    "\n",
    "1. it is often easier to select and filter the data you want with an API query than by using Python loops and conditional statements.\n",
    "2. it allows you to download only a subset of the dataset. If the dataset is very large this can save space on your computer and speed up your code (because Python doesn't have to loop through so many rows every time you perform an operation).\n",
    "\n",
    "In this notebook, we will walk through a couple of examples of different kinds of API queries you can do with the data.seattle.gov API. If you are interested in getting more practice with this API, you can check out [the API docs here](https://dev.socrata.com/). "
   ]
  },
  {
   "cell_type": "markdown",
   "metadata": {},
   "source": [
    "# Step 1: test the API (do this first)\n",
    "Run the code in the cell below. You should a list with one large dictionary inside it, which contains a bunch of information about the fancy new [Bill and Melinda Gates Computer Science building](https://www.engr.washington.edu/about/bldgs/cse2)."
   ]
  },
  {
   "cell_type": "code",
   "execution_count": 4,
   "metadata": {},
   "outputs": [
    {
     "name": "stdout",
     "output_type": "stream",
     "text": [
      "\"https://data.seattle.gov/resource/76t5-zqzr.json?$where=(PermitNum='6531736-PH')\"\n",
      "[{'applieddate': '2016-10-07T00:00:00.000',\n",
      "  'contractorcompanyname': 'M A MORTENSON COMPANY',\n",
      "  'description': 'Construct institutional building (University of Washington, '\n",
      "                 'Computer Science and Engineering Dept.), occupy per plan.',\n",
      "  'estprojectcost': '23886804.0000',\n",
      "  'expiresdate': '2020-04-03T00:00:00.000',\n",
      "  'housingunitsadded': '0.0',\n",
      "  'housingunitsremoved': '0.0',\n",
      "  'issueddate': '2017-04-03T00:00:00.000',\n",
      "  'latitude': '47.65300378',\n",
      "  'link': {'url': 'https://cosaccela.seattle.gov/portal/customize/LinkToRecord.aspx?altId=6531736-PH'},\n",
      "  'location1': {'latitude': '47.65300378', 'longitude': '-122.30500427'},\n",
      "  'longitude': '-122.30500427',\n",
      "  'originaladdress1': '3800 EAST STEVENS WAY NE',\n",
      "  'originalcity': 'SEATTLE',\n",
      "  'originalstate': 'WA',\n",
      "  'originalzip': '98195',\n",
      "  'permitclass': 'Institutional',\n",
      "  'permitclassmapped': 'Non-Residential',\n",
      "  'permitnum': '6531736-PH',\n",
      "  'permittypedesc': 'New',\n",
      "  'permittypemapped': 'Building',\n",
      "  'relatedmup': '3023786-LU',\n",
      "  'statuscurrent': 'Completed'}]\n"
     ]
    }
   ],
   "source": [
    "import requests\n",
    "from pprint import pprint\n",
    "\n",
    "# save the API endpoint. This is the base URL for all API requests for the building permit dataset\n",
    "test_endpoint = \"https://data.seattle.gov/resource/76t5-zqzr.json?\"\n",
    "\n",
    "#specify some parameters (filtering the data so we only get the parts we want)\n",
    "test_params = \"$where=(PermitNum='6531736-PH')\"\n",
    "\n",
    "test_url = test_endpoint + test_params\n",
    "\n",
    "test_request = requests.get(test_url)\n",
    "test_data = test_request.json()\n",
    "\n",
    "pprint(test_url)\n",
    "pprint(test_data)"
   ]
  },
  {
   "cell_type": "markdown",
   "metadata": {},
   "source": [
    "## What just happened?\n",
    "You just made an APi request (or \"query\") to data.seattle.gov, and requested a single item (or \"row\") from the [dataset of Seattle building permits](https://data.seattle.gov/Permitting/Building-Permits/76t5-zqzr). You should click on this link to see what this looks like at their web portal - how they present the data for \"public consumption\". This dataset contains information about 135,000 proposed and completed building projects within the city of Seattle, going back at least a decade.\n",
    "\n",
    "In this case, we specified in our API request that we wanted data on a single building, using the parameter (\"filtering criteria\") ``$where=(PermitNum='6531736-PH')``. Since each row in this dataset has a unique permit number, we were able to retrieve a single record from the entire dataset."
   ]
  },
  {
   "cell_type": "markdown",
   "metadata": {},
   "source": [
    "## Using more complex parameters in your API query\n",
    "In most cases where you are gathering data from an API you will want to retrieve more than one item, and/or you won't know the unique id for the record(s) you want to retrieve. \n",
    "\n",
    "In these cases, you can use multiple parameters in combination to grab a set of rows from the dataset that share some characteristics.\n",
    "\n",
    "Some useful parameters are:\n",
    "- ``select``: which columns from the dataset you want to get for each item or row\n",
    "- ``where``: specific values for a column that you want (or don't want)\n",
    "- ``order``: sort by one of the columns in the output, e.g. start with the most recently issued permits\n",
    "- ``limit``: the maximum number of many rows you want to get\n"
   ]
  },
  {
   "cell_type": "markdown",
   "metadata": {},
   "source": [
    "### Finding column and value names in a dataset\n",
    "In many cases where you want to download data from a website via an API, you won't be able to see what the data looks like (its structure and its content) before you start querying. Fortunately, data.seattle.gov has [a spreadsheet-like interface](https://data.seattle.gov/Permitting/Building-Permits/76t5-zqzr/data) for each dataset, where you can preview the data and see the names of all of the columns. This makes it easier for us to decide how to build our query."
   ]
  },
  {
   "cell_type": "markdown",
   "metadata": {},
   "source": [
    "## Creating a more complex API query\n",
    "\n",
    "For example, anyone who lives in central Seattle knows that there have been a LOT of new apartment and condo buildings going up over the past decade! Let's say we wanted to track the rate of apartment building creation in Seattle over time, to see if the rate really has increased.\n",
    "\n",
    "Using a combination of different parameters in a single query, we can filter the building permit dataset and retrieve only the records we want.\n",
    "\n",
    "When doing a complex query like this, it is often useful to write it out for yourself in human language first, and then translate that into API parameters (the language that the computer reads).\n",
    "\n",
    "\"Give me basic information for the 1000 most recently completed new single and multifamily dwellings built in Seattle since 2006\"\n",
    "\n",
    "This query would look like this (paste it into your browser to try it out!):\n",
    "``https://data.seattle.gov/resource/76t5-zqzr.json?$select=PermitNum, PermitClass, CompletedDate, Description&$where=(PermitClass='Multifamily' OR PermitClass='Single Family/Duplex') AND PermitTypeDesc='New' AND CompletedDate > '2006-01-01'&$order=CompletedDate DESC&$limit=1000``\n",
    "\n",
    "As you can see, these URLs can get long and complicated! So it is often easier to send these complex queries using the ``params`` argument of the ``requests`` library. This allows you to organize these sub-components fo the query into a dictionary, where the keys are the parameters and the values are the filtering criteria."
   ]
  },
  {
   "cell_type": "code",
   "execution_count": 8,
   "metadata": {},
   "outputs": [],
   "source": [
    "bp_api_params = {\n",
    "\"$select\" : \"PermitNum, PermitClass, CompletedDate, Description\",\n",
    "\"$where\" : \"(PermitClass='Multifamily' OR PermitClass='Single Family/Duplex') AND PermitTypeDesc='New' AND CompletedDate > '2006-01-01'\",\n",
    "\"$order\" : \"CompletedDate DESC\",\n",
    "\"$limit\" : \"1000\",\n",
    "}"
   ]
  },
  {
   "cell_type": "markdown",
   "metadata": {},
   "source": [
    "Then you can pass this dictionary, along with the endpoint (see the first cell above) into the request."
   ]
  },
  {
   "cell_type": "code",
   "execution_count": 9,
   "metadata": {},
   "outputs": [
    {
     "name": "stdout",
     "output_type": "stream",
     "text": [
      "'https://data.seattle.gov/resource/76t5-zqzr.json?%24select=PermitNum%2C+PermitClass%2C+CompletedDate%2C+Description&%24where=%28PermitClass%3D%27Multifamily%27+OR+PermitClass%3D%27Single+Family%2FDuplex%27%29+AND+PermitTypeDesc%3D%27New%27+AND+CompletedDate+%3E+%272006-01-01%27&%24order=CompletedDate+DESC&%24limit=1000'\n",
      "[{'CompletedDate': '2022-04-08T00:00:00.000',\n",
      "  'Description': 'Construct townhouse building per plan (Establish use as '\n",
      "                 'townhouse and single family residence, and construct one '\n",
      "                 'townhouse building and one single family residence.  Review '\n",
      "                 \"and process for (2) A/P's under 6768631).\",\n",
      "  'PermitClass': 'Multifamily',\n",
      "  'PermitNum': '6768631-CN'},\n",
      " {'CompletedDate': '2022-04-08T00:00:00.000',\n",
      "  'Description': 'Establish use as and construct new single family residence, '\n",
      "                 'per plan.  Portions of existing foundation to remain.',\n",
      "  'PermitClass': 'Single Family/Duplex',\n",
      "  'PermitNum': '6710404-CN'},\n",
      " {'CompletedDate': '2022-04-06T00:00:00.000',\n",
      "  'Description': 'Construct west duplex, per plan. [Construct new duplex and '\n",
      "                 'Construct alterations to east duplex, per plan. Processing '\n",
      "                 'and review for 2 construction records under 6709106-CN.]',\n",
      "  'PermitClass': 'Single Family/Duplex',\n",
      "  'PermitNum': '6709106-CN'},\n",
      " {'CompletedDate': '2022-04-05T00:00:00.000',\n",
      "  'Description': 'Construct shed/workshop accessory to single family '\n",
      "                 'residence, subject to field inspection.',\n",
      "  'PermitClass': 'Single Family/Duplex',\n",
      "  'PermitNum': '6812203-CN'},\n",
      " {'CompletedDate': '2022-04-05T00:00:00.000',\n",
      "  'Description': 'Establish use as rowhouses and Construct townhouses, per '\n",
      "                 'plan.',\n",
      "  'PermitClass': 'Multifamily',\n",
      "  'PermitNum': '6750539-CN'}]\n"
     ]
    }
   ],
   "source": [
    "bp_endpoint = \"https://data.seattle.gov/resource/76t5-zqzr.json?\"\n",
    "\n",
    "bp_request = requests.get(bp_endpoint, params=bp_api_params)\n",
    "bp_data = bp_request.json()\n",
    "\n",
    "pprint(bp_request.url) #you can still print out the full URL you sent to the API, to help debug\n",
    "pprint(bp_data[:5])#print out the first 5 items to check our work"
   ]
  },
  {
   "cell_type": "markdown",
   "metadata": {},
   "source": [
    "## Saving to CSV\n",
    "Now that you have the data you want stored in the list-of-dictionaries called ``bp_data``, you can start to work with it in Python! Or, if you just want to save this data file and work on it in a spreadsheet, you can save it directly to CSV at this point."
   ]
  },
  {
   "cell_type": "code",
   "execution_count": 7,
   "metadata": {},
   "outputs": [],
   "source": [
    "import csv\n",
    "\n",
    "#read through the list-of-dicts line by line and write it to CSV    \n",
    "with open('1000_most_recent_residential_permits.csv', 'w', encoding='utf-8') as csv_outfile:\n",
    "    writer = csv.writer(csv_outfile)\n",
    "\n",
    "    #first write the titles that will appear at the head of each column in the CSV\n",
    "    writer.writerow(('permit number', 'description', 'building type', 'completed date'))\n",
    "    \n",
    "    for b in bp_data:\n",
    "\n",
    "        #write the data for each permit application onto a single row in the CSV \n",
    "        writer.writerow((b['PermitNum'], b['Description'], b['PermitClass'], b['CompletedDate']))"
   ]
  },
  {
   "cell_type": "markdown",
   "metadata": {},
   "source": [
    "## A note on messy data\n",
    "The data in this dataset is messy and incomplete! Some of the rows in this dataset will be missing values for fields (like \"Original Zipcode\" and \"HousingUnitsAdded\" to name a few). You may find that this leads to errors when you are trying to analyze or export the data. \n",
    "\n",
    "In general, dealing with messy, inconsistent, incomplete data is the MOST TIME CONSUMING (and frustrating!) part of doing data science. If you are trying to write your own query and you are getting errors that you suspect may be due to missing or messy data, call a mentor over and we can work with you to try to debug this."
   ]
  },
  {
   "cell_type": "markdown",
   "metadata": {
    "tags": []
   },
   "source": [
    "## Challenge Question\n",
    "\n",
    "What to do\n",
    "- Create three novel queries of your own design in three separate code cells below. All you need to do is to alter the query parameters to return different results. Try out different kinds of queries and see what you can get from the database. \n",
    "- Make sure to create a Markdown Cell between each of your new queries that describes what you are doing.\n",
    "- Save your work.\n",
    "\n",
    "I've started the cells for you:"
   ]
  },
  {
   "cell_type": "markdown",
   "metadata": {},
   "source": [
    "## Example 1\n",
    "\n",
    "I wanted to find out which buildings... This code does this..."
   ]
  },
  {
   "cell_type": "code",
   "execution_count": 19,
   "metadata": {},
   "outputs": [
    {
     "name": "stdout",
     "output_type": "stream",
     "text": [
      "'https://data.seattle.gov/resource/76t5-zqzr.json?%24select=PermitNum%2C+OriginalZip&%24where=OriginalZip+%3D+%2798105%27&%24order=PermitNum+DESC&%24limit=10'\n",
      "[{'OriginalZip': '98105', 'PermitNum': '6893192-CN'},\n",
      " {'OriginalZip': '98105', 'PermitNum': '6892910-RR'},\n",
      " {'OriginalZip': '98105', 'PermitNum': '6892281-CN'},\n",
      " {'OriginalZip': '98105', 'PermitNum': '6892267-CN'},\n",
      " {'OriginalZip': '98105', 'PermitNum': '6892184-CN'},\n",
      " {'OriginalZip': '98105', 'PermitNum': '6892181-CN'},\n",
      " {'OriginalZip': '98105', 'PermitNum': '6892011-CN'},\n",
      " {'OriginalZip': '98105', 'PermitNum': '6891926-DM'},\n",
      " {'OriginalZip': '98105', 'PermitNum': '6891925-CN'},\n",
      " {'OriginalZip': '98105', 'PermitNum': '6891692-CN'}]\n"
     ]
    }
   ],
   "source": [
    "# 10 buildings built in my zip code ordered by descending permit number\n",
    "bp_api_params = {\n",
    "\"$select\" : \"PermitNum, OriginalZip\",\n",
    "\"$where\" : \"OriginalZip = '98105'\",\n",
    "\"$order\" : \"PermitNum DESC\",\n",
    "\"$limit\" : \"10\",\n",
    "}\n",
    "\n",
    "bp_endpoint = \"https://data.seattle.gov/resource/76t5-zqzr.json?\"\n",
    "\n",
    "bp_request = requests.get(bp_endpoint, params=bp_api_params)\n",
    "bp_data = bp_request.json()\n",
    "\n",
    "pprint(bp_request.url) #you can still print out the full URL you sent to the API, to help debug\n",
    "pprint(bp_data)#print out data"
   ]
  },
  {
   "cell_type": "markdown",
   "metadata": {},
   "source": [
    "## Example 2"
   ]
  },
  {
   "cell_type": "code",
   "execution_count": 20,
   "metadata": {},
   "outputs": [
    {
     "name": "stdout",
     "output_type": "stream",
     "text": [
      "'https://data.seattle.gov/resource/76t5-zqzr.json?%24select=OriginalZip%2C+CompletedDate&%24where=OriginalZip+%3D+%2798105%27&%24order=CompletedDate+ASC&%24limit=10'\n",
      "[{'CompletedDate': '2005-09-15T00:00:00.000', 'OriginalZip': '98105'},\n",
      " {'CompletedDate': '2005-09-21T00:00:00.000', 'OriginalZip': '98105'},\n",
      " {'CompletedDate': '2005-09-22T00:00:00.000', 'OriginalZip': '98105'},\n",
      " {'CompletedDate': '2005-09-28T00:00:00.000', 'OriginalZip': '98105'},\n",
      " {'CompletedDate': '2005-10-12T00:00:00.000', 'OriginalZip': '98105'},\n",
      " {'CompletedDate': '2005-10-25T00:00:00.000', 'OriginalZip': '98105'},\n",
      " {'CompletedDate': '2005-11-01T00:00:00.000', 'OriginalZip': '98105'},\n",
      " {'CompletedDate': '2005-11-03T00:00:00.000', 'OriginalZip': '98105'},\n",
      " {'CompletedDate': '2005-11-03T00:00:00.000', 'OriginalZip': '98105'},\n",
      " {'CompletedDate': '2005-11-14T00:00:00.000', 'OriginalZip': '98105'}]\n"
     ]
    }
   ],
   "source": [
    "# most recent 10 buildings built in my zip code ordered by date ascending\n",
    "bp_api_params = {\n",
    "\"$select\" : \"OriginalZip, CompletedDate\",\n",
    "\"$where\" : \"OriginalZip = '98105'\",\n",
    "\"$order\" : \"CompletedDate ASC\",\n",
    "\"$limit\" : \"10\",\n",
    "}\n",
    "\n",
    "bp_endpoint = \"https://data.seattle.gov/resource/76t5-zqzr.json?\"\n",
    "\n",
    "bp_request = requests.get(bp_endpoint, params=bp_api_params)\n",
    "bp_data = bp_request.json()\n",
    "\n",
    "pprint(bp_request.url) #you can still print out the full URL you sent to the API, to help debug\n",
    "pprint(bp_data)#print out data"
   ]
  },
  {
   "cell_type": "markdown",
   "metadata": {},
   "source": [
    "## Example 3"
   ]
  },
  {
   "cell_type": "code",
   "execution_count": 23,
   "metadata": {},
   "outputs": [
    {
     "name": "stdout",
     "output_type": "stream",
     "text": [
      "'https://data.seattle.gov/resource/76t5-zqzr.json?%24select=OriginalZip%2C+PermitClass%2C+CompletedDate&%24where=OriginalZip+%3D+%2798105%27&%24order=PermitClass+ASC&%24limit=10'\n",
      "[{'OriginalZip': '98105', 'PermitClass': 'Commercial'},\n",
      " {'OriginalZip': '98105', 'PermitClass': 'Commercial'},\n",
      " {'OriginalZip': '98105', 'PermitClass': 'Commercial'},\n",
      " {'OriginalZip': '98105', 'PermitClass': 'Commercial'},\n",
      " {'CompletedDate': '2007-11-30T00:00:00.000',\n",
      "  'OriginalZip': '98105',\n",
      "  'PermitClass': 'Commercial'},\n",
      " {'CompletedDate': '2006-08-01T00:00:00.000',\n",
      "  'OriginalZip': '98105',\n",
      "  'PermitClass': 'Commercial'},\n",
      " {'OriginalZip': '98105', 'PermitClass': 'Commercial'},\n",
      " {'OriginalZip': '98105', 'PermitClass': 'Commercial'},\n",
      " {'OriginalZip': '98105', 'PermitClass': 'Commercial'},\n",
      " {'CompletedDate': '2013-03-11T00:00:00.000',\n",
      "  'OriginalZip': '98105',\n",
      "  'PermitClass': 'Commercial'}]\n"
     ]
    }
   ],
   "source": [
    "# 10 buildings built in my zip code ordered by type acesnding, and date completed is listed\n",
    "bp_api_params = {\n",
    "\"$select\" : \"OriginalZip, PermitClass, CompletedDate\",\n",
    "\"$where\" : \"OriginalZip = '98105'\",\n",
    "\"$order\" : \"PermitClass ASC\",\n",
    "\"$limit\" : \"10\",\n",
    "}\n",
    "\n",
    "bp_endpoint = \"https://data.seattle.gov/resource/76t5-zqzr.json?\"\n",
    "\n",
    "bp_request = requests.get(bp_endpoint, params=bp_api_params)\n",
    "bp_data = bp_request.json()\n",
    "\n",
    "pprint(bp_request.url) #you can still print out the full URL you sent to the API, to help debug\n",
    "pprint(bp_data)#print out data"
   ]
  },
  {
   "cell_type": "code",
   "execution_count": null,
   "metadata": {},
   "outputs": [],
   "source": []
  }
 ],
 "metadata": {
  "kernelspec": {
   "display_name": "Python 3 (ipykernel)",
   "language": "python",
   "name": "python3"
  },
  "language_info": {
   "codemirror_mode": {
    "name": "ipython",
    "version": 3
   },
   "file_extension": ".py",
   "mimetype": "text/x-python",
   "name": "python",
   "nbconvert_exporter": "python",
   "pygments_lexer": "ipython3",
   "version": "3.9.7"
  }
 },
 "nbformat": 4,
 "nbformat_minor": 4
}
